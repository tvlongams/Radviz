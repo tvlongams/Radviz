{
 "cells": [
  {
   "cell_type": "code",
   "execution_count": 1,
   "metadata": {},
   "outputs": [],
   "source": [
    "import numpy as np\n",
    "import pandas as pd"
   ]
  },
  {
   "cell_type": "code",
   "execution_count": 3,
   "metadata": {},
   "outputs": [],
   "source": [
    "x=np.random.rand(4,2)"
   ]
  },
  {
   "cell_type": "code",
   "execution_count": 4,
   "metadata": {},
   "outputs": [
    {
     "data": {
      "text/plain": [
       "(4, 2)"
      ]
     },
     "execution_count": 4,
     "metadata": {},
     "output_type": "execute_result"
    }
   ],
   "source": [
    "x.shape"
   ]
  },
  {
   "cell_type": "code",
   "execution_count": 5,
   "metadata": {},
   "outputs": [
    {
     "data": {
      "text/plain": [
       "array([[ 0.82692434,  0.03643897],\n",
       "       [ 0.04818466,  0.37727736],\n",
       "       [ 0.77035008,  0.29904591],\n",
       "       [ 0.18002958,  0.80461902]])"
      ]
     },
     "execution_count": 5,
     "metadata": {},
     "output_type": "execute_result"
    }
   ],
   "source": [
    "x"
   ]
  },
  {
   "cell_type": "code",
   "execution_count": 10,
   "metadata": {},
   "outputs": [
    {
     "data": {
      "text/plain": [
       "(4,)"
      ]
     },
     "execution_count": 10,
     "metadata": {},
     "output_type": "execute_result"
    }
   ],
   "source": [
    "np.transpose(x[:,0]).shape"
   ]
  },
  {
   "cell_type": "code",
   "execution_count": 11,
   "metadata": {},
   "outputs": [
    {
     "data": {
      "text/plain": [
       "(4,)"
      ]
     },
     "execution_count": 11,
     "metadata": {},
     "output_type": "execute_result"
    }
   ],
   "source": [
    "x[:,0].shape"
   ]
  },
  {
   "cell_type": "code",
   "execution_count": 12,
   "metadata": {},
   "outputs": [
    {
     "data": {
      "text/plain": [
       "0.036438967892475582"
      ]
     },
     "execution_count": 12,
     "metadata": {},
     "output_type": "execute_result"
    }
   ],
   "source": [
    "x[0,1]"
   ]
  },
  {
   "cell_type": "code",
   "execution_count": 19,
   "metadata": {},
   "outputs": [
    {
     "data": {
      "text/plain": [
       "array([[[ 0.12012302,  0.72474039],\n",
       "        [ 0.78862265,  0.85912648]],\n",
       "\n",
       "       [[ 0.25201404,  0.74633734],\n",
       "        [ 0.56093022,  0.0448795 ]],\n",
       "\n",
       "       [[ 0.9204069 ,  0.09266076],\n",
       "        [ 0.83675646,  0.18943435]],\n",
       "\n",
       "       [[ 0.72705234,  0.51162867],\n",
       "        [ 0.63218955,  0.6533967 ]]])"
      ]
     },
     "execution_count": 19,
     "metadata": {},
     "output_type": "execute_result"
    }
   ],
   "source": [
    "x"
   ]
  },
  {
   "cell_type": "code",
   "execution_count": 20,
   "metadata": {},
   "outputs": [],
   "source": [
    "y=x[:,0]"
   ]
  },
  {
   "cell_type": "code",
   "execution_count": 21,
   "metadata": {},
   "outputs": [
    {
     "data": {
      "text/plain": [
       "array([[ 0.12012302,  0.72474039],\n",
       "       [ 0.25201404,  0.74633734],\n",
       "       [ 0.9204069 ,  0.09266076],\n",
       "       [ 0.72705234,  0.51162867]])"
      ]
     },
     "execution_count": 21,
     "metadata": {},
     "output_type": "execute_result"
    }
   ],
   "source": [
    "y"
   ]
  },
  {
   "cell_type": "code",
   "execution_count": 22,
   "metadata": {},
   "outputs": [],
   "source": [
    "z=x[:,1]-x[:,0]"
   ]
  },
  {
   "cell_type": "code",
   "execution_count": 23,
   "metadata": {},
   "outputs": [
    {
     "data": {
      "text/plain": [
       "array([[ 0.66849962,  0.13438608],\n",
       "       [ 0.30891618, -0.70145784],\n",
       "       [-0.08365044,  0.09677359],\n",
       "       [-0.09486279,  0.14176803]])"
      ]
     },
     "execution_count": 23,
     "metadata": {},
     "output_type": "execute_result"
    }
   ],
   "source": [
    "z"
   ]
  },
  {
   "cell_type": "code",
   "execution_count": 24,
   "metadata": {},
   "outputs": [
    {
     "data": {
      "text/plain": [
       "array([ 0.79890258, -0.32853014])"
      ]
     },
     "execution_count": 24,
     "metadata": {},
     "output_type": "execute_result"
    }
   ],
   "source": [
    "z.sum(axis=0)"
   ]
  },
  {
   "cell_type": "code",
   "execution_count": 13,
   "metadata": {},
   "outputs": [],
   "source": [
    "a=np.array([1,2,3])\n"
   ]
  },
  {
   "cell_type": "code",
   "execution_count": 14,
   "metadata": {},
   "outputs": [
    {
     "data": {
      "text/plain": [
       "array([1, 2, 3])"
      ]
     },
     "execution_count": 14,
     "metadata": {},
     "output_type": "execute_result"
    }
   ],
   "source": [
    "a"
   ]
  },
  {
   "cell_type": "code",
   "execution_count": 15,
   "metadata": {},
   "outputs": [
    {
     "ename": "SyntaxError",
     "evalue": "invalid syntax (<ipython-input-15-ae4a6132495c>, line 1)",
     "output_type": "error",
     "traceback": [
      "\u001b[1;36m  File \u001b[1;32m\"<ipython-input-15-ae4a6132495c>\"\u001b[1;36m, line \u001b[1;32m1\u001b[0m\n\u001b[1;33m    np.(a,reshape=(-1,1))\u001b[0m\n\u001b[1;37m       ^\u001b[0m\n\u001b[1;31mSyntaxError\u001b[0m\u001b[1;31m:\u001b[0m invalid syntax\n"
     ]
    }
   ],
   "source": [
    "np.(a,reshape=(-1,1))"
   ]
  },
  {
   "cell_type": "code",
   "execution_count": 1,
   "metadata": {},
   "outputs": [],
   "source": [
    "N=4"
   ]
  },
  {
   "cell_type": "code",
   "execution_count": 8,
   "metadata": {},
   "outputs": [
    {
     "name": "stdout",
     "output_type": "stream",
     "text": [
      "0.0 1.0 2.0 3.0 4.0 5.0 "
     ]
    }
   ],
   "source": [
    "for i in range(N):\n",
    "    for j in range(i+1,N):\n",
    "        n=N*(N-1)/2-(N-i)*(N-i-1)/2+j-i-1\n",
    "        print(n, end=\" \")"
   ]
  },
  {
   "cell_type": "code",
   "execution_count": 4,
   "metadata": {},
   "outputs": [
    {
     "name": "stdout",
     "output_type": "stream",
     "text": [
      "0\n",
      "1\n",
      "2\n",
      "3\n"
     ]
    }
   ],
   "source": [
    "for i in range(N):\n",
    "    print(i)"
   ]
  },
  {
   "cell_type": "code",
   "execution_count": 16,
   "metadata": {},
   "outputs": [
    {
     "name": "stdout",
     "output_type": "stream",
     "text": [
      "0 1,0 2,0 3,0 4,0 5,0 6,0 7,0 8,0 9,1 2,1 3,1 4,1 5,1 6,1 7,1 8,1 9,2 3,2 4,2 5,2 6,2 7,2 8,2 9,3 4,3 5,3 6,3 7,3 8,3 9,4 5,4 6,4 7,4 8,4 9,5 6,5 7,5 8,5 9,6 7,6 8,6 9,7 8,7 9,8 9,"
     ]
    }
   ],
   "source": [
    "from numpy import triu_indices, sqrt\n",
    "n = 10\n",
    "for k in range(int(n*(n-1)/2)):\n",
    "    i = n - 2 - int(sqrt(-8*k + 4*n*(n-1)-7)/2.0 - 0.5)\n",
    "    j = k + i + 1 - n*(n-1)/2 + (n-i)*((n-i)-1)/2\n",
    "    print(int(i),int(j),end =\",\")"
   ]
  },
  {
   "cell_type": "code",
   "execution_count": 19,
   "metadata": {},
   "outputs": [
    {
     "name": "stdout",
     "output_type": "stream",
     "text": [
      "0, 1, 2, 3, 4, 5, 6, 7, 8, 9, 10, 11, 12, 13, 14, 15, 16, 17, 18, 19, 20, 21, 22, 23, 24, 25, 26, 27, 28, 29, 30, 31, 32, 33, 34, 35, 36, 37, 38, 39, 40, 41, 42, 43, 44, "
     ]
    }
   ],
   "source": [
    "for i in range(n):\n",
    "    for j in range(i+1, n):\n",
    "        k = (n*(n-1)/2) - (n-i)*((n-i)-1)/2 + j - i - 1\n",
    "        print(int(k), end=\", \")"
   ]
  },
  {
   "cell_type": "code",
   "execution_count": 20,
   "metadata": {},
   "outputs": [
    {
     "data": {
      "text/plain": [
       "45.0"
      ]
     },
     "execution_count": 20,
     "metadata": {},
     "output_type": "execute_result"
    }
   ],
   "source": [
    "n*(n-1)/2"
   ]
  },
  {
   "cell_type": "code",
   "execution_count": 2,
   "metadata": {},
   "outputs": [],
   "source": [
    "from datasets import *"
   ]
  },
  {
   "cell_type": "code",
   "execution_count": 3,
   "metadata": {},
   "outputs": [],
   "source": [
    "(x_vals,target)=DATA['iris']"
   ]
  },
  {
   "cell_type": "code",
   "execution_count": 5,
   "metadata": {},
   "outputs": [],
   "source": [
    "x=(x_vals-x_vals.min())/(x_vals.max()-x_vals.min())"
   ]
  },
  {
   "cell_type": "code",
   "execution_count": 7,
   "metadata": {},
   "outputs": [
    {
     "data": {
      "text/plain": [
       "array([[ 0.64102564,  0.43589744,  0.16666667,  0.01282051],\n",
       "       [ 0.61538462,  0.37179487,  0.16666667,  0.01282051],\n",
       "       [ 0.58974359,  0.3974359 ,  0.15384615,  0.01282051],\n",
       "       [ 0.57692308,  0.38461538,  0.17948718,  0.01282051]])"
      ]
     },
     "execution_count": 7,
     "metadata": {},
     "output_type": "execute_result"
    }
   ],
   "source": [
    "x[:4]"
   ]
  },
  {
   "cell_type": "code",
   "execution_count": 6,
   "metadata": {},
   "outputs": [],
   "source": [
    "y=target"
   ]
  },
  {
   "cell_type": "code",
   "execution_count": 9,
   "metadata": {},
   "outputs": [
    {
     "data": {
      "text/plain": [
       "array([1, 1, 1, 1])"
      ]
     },
     "execution_count": 9,
     "metadata": {},
     "output_type": "execute_result"
    }
   ],
   "source": [
    "y[:4]"
   ]
  },
  {
   "cell_type": "code",
   "execution_count": 7,
   "metadata": {},
   "outputs": [],
   "source": [
    "def convert_class_to_vector(i,n,m=None):\n",
    "    c=np.zeros(n)\n",
    "    if m:\n",
    "        c[i-m]=1.0\n",
    "    else:\n",
    "        c[i]=1.0\n",
    "    return c"
   ]
  },
  {
   "cell_type": "code",
   "execution_count": 8,
   "metadata": {},
   "outputs": [],
   "source": [
    "K=len(np.unique(target))\n",
    "y_vals=np.zeros((len(target),K)) # y.shape =(150,3)"
   ]
  },
  {
   "cell_type": "code",
   "execution_count": 12,
   "metadata": {},
   "outputs": [],
   "source": [
    "for i in range(len(target)):\n",
    "    y_vals[i]=convert_class_to_vector(int(target[i]),K,1)"
   ]
  },
  {
   "cell_type": "code",
   "execution_count": 13,
   "metadata": {},
   "outputs": [
    {
     "data": {
      "text/plain": [
       "array([[ 1.,  0.,  0.],\n",
       "       [ 1.,  0.,  0.],\n",
       "       [ 1.,  0.,  0.],\n",
       "       [ 1.,  0.,  0.]])"
      ]
     },
     "execution_count": 13,
     "metadata": {},
     "output_type": "execute_result"
    }
   ],
   "source": [
    "y_vals[:4]"
   ]
  },
  {
   "cell_type": "code",
   "execution_count": 9,
   "metadata": {},
   "outputs": [],
   "source": [
    "from sklearn.neighbors import NearestCentroid\n",
    "from sklearn.discriminant_analysis import LinearDiscriminantAnalysis as LDA"
   ]
  },
  {
   "cell_type": "code",
   "execution_count": 10,
   "metadata": {},
   "outputs": [],
   "source": [
    "def NearestCentroidClassifier(x,y):\n",
    "\t#clf=NearestCentroid()\n",
    "\tclf=LDA()\n",
    "\tclf.fit(x,y)\n",
    "\tac=clf.score(x,y)\n",
    "\treturn ac"
   ]
  },
  {
   "cell_type": "code",
   "execution_count": 11,
   "metadata": {},
   "outputs": [],
   "source": [
    "(n,m)=x.shape"
   ]
  },
  {
   "cell_type": "code",
   "execution_count": 136,
   "metadata": {},
   "outputs": [
    {
     "data": {
      "text/plain": [
       "(178, 12)"
      ]
     },
     "execution_count": 136,
     "metadata": {},
     "output_type": "execute_result"
    }
   ],
   "source": [
    "n,m"
   ]
  },
  {
   "cell_type": "code",
   "execution_count": 26,
   "metadata": {},
   "outputs": [
    {
     "data": {
      "text/plain": [
       "array([[ 0.16666667,  0.01282051],\n",
       "       [ 0.16666667,  0.01282051],\n",
       "       [ 0.15384615,  0.01282051],\n",
       "       [ 0.17948718,  0.01282051]])"
      ]
     },
     "execution_count": 26,
     "metadata": {},
     "output_type": "execute_result"
    }
   ],
   "source": [
    "x[:4,[2,3]]"
   ]
  },
  {
   "cell_type": "code",
   "execution_count": 139,
   "metadata": {},
   "outputs": [],
   "source": [
    "score=[]\n",
    "for i in range(m):\n",
    "    for j in range(i+1,m):\n",
    "        score.append(NearestCentroidClassifier(x[:,[i,j]],y))    "
   ]
  },
  {
   "cell_type": "code",
   "execution_count": 140,
   "metadata": {},
   "outputs": [
    {
     "data": {
      "text/plain": [
       "[0.8089887640449438,\n",
       " 0.7303370786516854,\n",
       " 0.7808988764044944,\n",
       " 0.6910112359550562,\n",
       " 0.84269662921348309,\n",
       " 0.9213483146067416,\n",
       " 0.797752808988764,\n",
       " 0.7921348314606742,\n",
       " 0.8202247191011236,\n",
       " 0.8932584269662921,\n",
       " 0.88764044943820219,\n",
       " 0.601123595505618,\n",
       " 0.6685393258426966,\n",
       " 0.6179775280898876,\n",
       " 0.7247191011235955,\n",
       " 0.7921348314606742,\n",
       " 0.5898876404494382,\n",
       " 0.6179775280898876,\n",
       " 0.8089887640449438,\n",
       " 0.56741573033707871,\n",
       " 0.6460674157303371,\n",
       " 0.6910112359550562,\n",
       " 0.5449438202247191,\n",
       " 0.702247191011236,\n",
       " 0.84269662921348309,\n",
       " 0.6292134831460674,\n",
       " 0.6404494382022472,\n",
       " 0.7359550561797753,\n",
       " 0.6910112359550562,\n",
       " 0.7303370786516854,\n",
       " 0.6348314606741573,\n",
       " 0.7247191011235955,\n",
       " 0.848314606741573,\n",
       " 0.5842696629213483,\n",
       " 0.6348314606741573,\n",
       " 0.7584269662921348,\n",
       " 0.7191011235955056,\n",
       " 0.7808988764044944,\n",
       " 0.6910112359550562,\n",
       " 0.8202247191011236,\n",
       " 0.6235955056179775,\n",
       " 0.6741573033707865,\n",
       " 0.7471910112359551,\n",
       " 0.6966292134831461,\n",
       " 0.7471910112359551,\n",
       " 0.7921348314606742,\n",
       " 0.6629213483146067,\n",
       " 0.6460674157303371,\n",
       " 0.848314606741573,\n",
       " 0.7640449438202247,\n",
       " 0.7752808988764045,\n",
       " 0.7921348314606742,\n",
       " 0.8258426966292135,\n",
       " 0.898876404494382,\n",
       " 0.848314606741573,\n",
       " 0.8370786516853933,\n",
       " 0.550561797752809,\n",
       " 0.7752808988764045,\n",
       " 0.6685393258426966,\n",
       " 0.6741573033707865,\n",
       " 0.8314606741573034,\n",
       " 0.6910112359550562,\n",
       " 0.6404494382022472,\n",
       " 0.8258426966292135,\n",
       " 0.8820224719101124,\n",
       " 0.6741573033707865]"
      ]
     },
     "execution_count": 140,
     "metadata": {},
     "output_type": "execute_result"
    }
   ],
   "source": [
    "score"
   ]
  },
  {
   "cell_type": "code",
   "execution_count": 141,
   "metadata": {},
   "outputs": [],
   "source": [
    "s=np.array(score)"
   ]
  },
  {
   "cell_type": "code",
   "execution_count": 142,
   "metadata": {},
   "outputs": [],
   "source": [
    "s_index=np.argsort(s)"
   ]
  },
  {
   "cell_type": "code",
   "execution_count": 143,
   "metadata": {},
   "outputs": [
    {
     "data": {
      "text/plain": [
       "array([22, 56, 19, 33, 16, 11, 17, 13, 40, 25, 34, 30, 62, 26, 20, 47, 46,\n",
       "       12, 58, 41, 65, 59, 21, 38, 61, 28,  3, 43, 23, 36, 31, 14, 29,  1,\n",
       "       27, 42, 44, 35, 49, 57, 50,  2, 37,  7, 51, 45, 15,  6,  0, 18, 39,\n",
       "        8, 63, 52, 60, 55, 24,  4, 32, 48, 54, 64, 10,  9, 53,  5], dtype=int64)"
      ]
     },
     "execution_count": 143,
     "metadata": {},
     "output_type": "execute_result"
    }
   ],
   "source": [
    "s_index"
   ]
  },
  {
   "cell_type": "code",
   "execution_count": 144,
   "metadata": {},
   "outputs": [
    {
     "data": {
      "text/plain": [
       "array([ 0.92134831,  0.8988764 ,  0.89325843,  0.88764045,  0.88202247,\n",
       "        0.84831461,  0.84831461,  0.84831461,  0.84269663,  0.84269663,\n",
       "        0.83707865,  0.83146067,  0.8258427 ,  0.8258427 ,  0.82022472,\n",
       "        0.82022472,  0.80898876,  0.80898876,  0.79775281,  0.79213483,\n",
       "        0.79213483,  0.79213483,  0.79213483,  0.78089888,  0.78089888,\n",
       "        0.7752809 ,  0.7752809 ,  0.76404494,  0.75842697,  0.74719101,\n",
       "        0.74719101,  0.73595506,  0.73033708,  0.73033708,  0.7247191 ,\n",
       "        0.7247191 ,  0.71910112,  0.70224719,  0.69662921,  0.69101124,\n",
       "        0.69101124,  0.69101124,  0.69101124,  0.69101124,  0.6741573 ,\n",
       "        0.6741573 ,  0.6741573 ,  0.66853933,  0.66853933,  0.66292135,\n",
       "        0.64606742,  0.64606742,  0.64044944,  0.64044944,  0.63483146,\n",
       "        0.63483146,  0.62921348,  0.62359551,  0.61797753,  0.61797753,\n",
       "        0.6011236 ,  0.58988764,  0.58426966,  0.56741573,  0.5505618 ,\n",
       "        0.54494382])"
      ]
     },
     "execution_count": 144,
     "metadata": {},
     "output_type": "execute_result"
    }
   ],
   "source": [
    "s[s_index[::-1]]"
   ]
  },
  {
   "cell_type": "code",
   "execution_count": 46,
   "metadata": {},
   "outputs": [
    {
     "data": {
      "text/plain": [
       "array([4, 1, 5, 2, 3, 0], dtype=int64)"
      ]
     },
     "execution_count": 46,
     "metadata": {},
     "output_type": "execute_result"
    }
   ],
   "source": [
    "s_index[::-1]"
   ]
  },
  {
   "cell_type": "code",
   "execution_count": 145,
   "metadata": {},
   "outputs": [],
   "source": [
    "key_matrix={}\n",
    "for i in range(m):\n",
    "    for j in range(i+1,m):\n",
    "        k = (m*(m-1)/2) - (m-i)*((m-i)-1)/2 + j - i - 1\n",
    "        key_matrix[k]=(i,j)"
   ]
  },
  {
   "cell_type": "code",
   "execution_count": 146,
   "metadata": {},
   "outputs": [
    {
     "data": {
      "text/plain": [
       "(0, 6)"
      ]
     },
     "execution_count": 146,
     "metadata": {},
     "output_type": "execute_result"
    }
   ],
   "source": [
    "key_matrix[s_index[::-1][0]]"
   ]
  },
  {
   "cell_type": "code",
   "execution_count": 148,
   "metadata": {},
   "outputs": [],
   "source": [
    "sector=s_index[::-1]"
   ]
  },
  {
   "cell_type": "code",
   "execution_count": 149,
   "metadata": {},
   "outputs": [
    {
     "data": {
      "text/plain": [
       "0.9213483146067416"
      ]
     },
     "execution_count": 149,
     "metadata": {},
     "output_type": "execute_result"
    }
   ],
   "source": [
    "score[sector[0]]"
   ]
  },
  {
   "cell_type": "code",
   "execution_count": 150,
   "metadata": {},
   "outputs": [
    {
     "data": {
      "text/plain": [
       "array([ 5, 53,  9, 10, 64, 54, 48, 32,  4, 24, 55, 60, 52, 63,  8, 39, 18,\n",
       "        0,  6, 15, 45, 51,  7, 37,  2, 50, 57, 49, 35, 44, 42, 27,  1, 29,\n",
       "       14, 31, 36, 23, 43,  3, 28, 61, 38, 21, 59, 65, 41, 58, 12, 46, 47,\n",
       "       20, 26, 62, 30, 34, 25, 40, 13, 17, 11, 16, 33, 19, 56, 22], dtype=int64)"
      ]
     },
     "execution_count": 150,
     "metadata": {},
     "output_type": "execute_result"
    }
   ],
   "source": [
    "sector"
   ]
  },
  {
   "cell_type": "code",
   "execution_count": 57,
   "metadata": {},
   "outputs": [
    {
     "name": "stdout",
     "output_type": "stream",
     "text": [
      "(1, 3)\n",
      "(0, 2)\n",
      "(2, 3)\n",
      "(0, 3)\n",
      "(1, 2)\n",
      "(0, 1)\n"
     ]
    }
   ],
   "source": [
    "for s in sector:\n",
    "   print( key_matrix[s])"
   ]
  },
  {
   "cell_type": "code",
   "execution_count": 58,
   "metadata": {},
   "outputs": [],
   "source": [
    "i,j=key_matrix[sector[0]]"
   ]
  },
  {
   "cell_type": "code",
   "execution_count": 59,
   "metadata": {},
   "outputs": [
    {
     "data": {
      "text/plain": [
       "(1, 3)"
      ]
     },
     "execution_count": 59,
     "metadata": {},
     "output_type": "execute_result"
    }
   ],
   "source": [
    "i,j"
   ]
  },
  {
   "cell_type": "code",
   "execution_count": 4,
   "metadata": {},
   "outputs": [],
   "source": [
    "import matplotlib.pyplot as plt\n",
    "import matplotlib\n",
    "%matplotlib inline "
   ]
  },
  {
   "cell_type": "code",
   "execution_count": 151,
   "metadata": {},
   "outputs": [],
   "source": [
    "classes=np.unique(y)\n",
    "colors=matplotlib.pyplot.cm.gist_rainbow(np.linspace(0,1,len(classes)))\n",
    "cm = matplotlib.colors.ListedColormap(colors)"
   ]
  },
  {
   "cell_type": "code",
   "execution_count": 152,
   "metadata": {},
   "outputs": [
    {
     "data": {
      "text/plain": [
       "<matplotlib.figure.Figure at 0x16d3dfe0470>"
      ]
     },
     "execution_count": 152,
     "metadata": {},
     "output_type": "execute_result"
    },
    {
     "data": {
      "text/plain": [
       "<matplotlib.figure.Figure at 0x16d3dfe0470>"
      ]
     },
     "metadata": {},
     "output_type": "display_data"
    }
   ],
   "source": [
    "plt.figure(figsize=(6,6))"
   ]
  },
  {
   "cell_type": "code",
   "execution_count": 153,
   "metadata": {},
   "outputs": [
    {
     "data": {
      "text/plain": [
       "<matplotlib.collections.PathCollection at 0x16d3c82aba8>"
      ]
     },
     "execution_count": 153,
     "metadata": {},
     "output_type": "execute_result"
    },
    {
     "data": {
      "image/png": "[encoded data removed]",
      "text/plain": [
       "<matplotlib.figure.Figure at 0x16d3e01e048>"
      ]
     },
     "metadata": {},
     "output_type": "display_data"
    }
   ],
   "source": [
    "i,j=key_matrix[sector[0]]\n",
    "X1=x[:,[i,j]]\n",
    "Y=y\n",
    "plt.scatter(X1[:,0],X1[:,1],c=Y,cmap=cm,marker='.',s=10)"
   ]
  },
  {
   "cell_type": "code",
   "execution_count": 154,
   "metadata": {},
   "outputs": [
    {
     "data": {
      "text/plain": [
       "<matplotlib.collections.PathCollection at 0x16d3ca05b70>"
      ]
     },
     "execution_count": 154,
     "metadata": {},
     "output_type": "execute_result"
    },
    {
     "data": {
      "image/png": "[encoded data removed]",
      "text/plain": [
       "<matplotlib.figure.Figure at 0x16d3c9ddf98>"
      ]
     },
     "metadata": {},
     "output_type": "display_data"
    }
   ],
   "source": [
    "i,j=key_matrix[sector[1]]\n",
    "X2=x[:,[i,j]]\n",
    "Y=y\n",
    "plt.scatter(X2[:,0],X2[:,1],c=Y,cmap=cm,marker='.',s=10)"
   ]
  },
  {
   "cell_type": "code",
   "execution_count": 155,
   "metadata": {},
   "outputs": [
    {
     "data": {
      "text/plain": [
       "<matplotlib.collections.PathCollection at 0x16d3e0ab4e0>"
      ]
     },
     "execution_count": 155,
     "metadata": {},
     "output_type": "execute_result"
    },
    {
     "data": {
      "image/png": "[encoded data removed]",
      "text/plain": [
       "<matplotlib.figure.Figure at 0x16d3c9f7518>"
      ]
     },
     "metadata": {},
     "output_type": "display_data"
    }
   ],
   "source": [
    "plt.scatter(X1[:,0]+X2[:,0],X1[:,1]+X2[:,1],c=Y,cmap=cm,marker='.',s=10)"
   ]
  },
  {
   "cell_type": "code",
   "execution_count": 94,
   "metadata": {},
   "outputs": [
    {
     "data": {
      "text/plain": [
       "<matplotlib.collections.PathCollection at 0x16d3c6a3160>"
      ]
     },
     "execution_count": 94,
     "metadata": {},
     "output_type": "execute_result"
    },
    {
     "data": {
      "image/png": "[encoded data removed]",
      "text/plain": [
       "<matplotlib.figure.Figure at 0x16d3c6135c0>"
      ]
     },
     "metadata": {},
     "output_type": "display_data"
    }
   ],
   "source": [
    "i,j=key_matrix[sector[2]]\n",
    "X3=x[:,[i,j]]\n",
    "Y=y\n",
    "plt.scatter(X3[:,0],X3[:,1],c=Y,cmap=cm,marker='.',s=10)"
   ]
  },
  {
   "cell_type": "code",
   "execution_count": 74,
   "metadata": {},
   "outputs": [
    {
     "data": {
      "text/plain": [
       "<matplotlib.collections.PathCollection at 0x16d3c4c2160>"
      ]
     },
     "execution_count": 74,
     "metadata": {},
     "output_type": "execute_result"
    },
    {
     "data": {
      "image/png": "[encoded data removed]",
      "text/plain": [
       "<matplotlib.figure.Figure at 0x16d3c472240>"
      ]
     },
     "metadata": {},
     "output_type": "display_data"
    }
   ],
   "source": [
    "i,j=key_matrix[sector[3]]\n",
    "X=x[:,[i,j]]\n",
    "Y=y\n",
    "plt.scatter(X[:,0],X[:,1],c=Y,cmap=cm,marker='.',s=10)"
   ]
  },
  {
   "cell_type": "code",
   "execution_count": 156,
   "metadata": {},
   "outputs": [],
   "source": [
    "Xn=np.stack([X1[:,0]+X2[:,0],X1[:,1]+X2[:,1]],axis=1)"
   ]
  },
  {
   "cell_type": "code",
   "execution_count": 100,
   "metadata": {},
   "outputs": [
    {
     "data": {
      "text/plain": [
       "array([[ 1.07692308,  0.17948718],\n",
       "       [ 0.98717949,  0.17948718],\n",
       "       [ 0.98717949,  0.16666667],\n",
       "       [ 0.96153846,  0.19230769]])"
      ]
     },
     "execution_count": 100,
     "metadata": {},
     "output_type": "execute_result"
    }
   ],
   "source": [
    "Xn[:4]"
   ]
  },
  {
   "cell_type": "code",
   "execution_count": 157,
   "metadata": {},
   "outputs": [
    {
     "data": {
      "text/plain": [
       "0.8595505617977528"
      ]
     },
     "execution_count": 157,
     "metadata": {},
     "output_type": "execute_result"
    }
   ],
   "source": [
    "NearestCentroidClassifier(Xn,Y)"
   ]
  },
  {
   "cell_type": "code",
   "execution_count": 102,
   "metadata": {},
   "outputs": [
    {
     "data": {
      "text/plain": [
       "<matplotlib.collections.PathCollection at 0x16d3c739860>"
      ]
     },
     "execution_count": 102,
     "metadata": {},
     "output_type": "execute_result"
    },
    {
     "data": {
      "image/png": "[encoded data removed]",
      "text/plain": [
       "<matplotlib.figure.Figure at 0x16d3c53f5f8>"
      ]
     },
     "metadata": {},
     "output_type": "display_data"
    }
   ],
   "source": [
    "plt.scatter(Xn[:,0],Xn[:,1],c=Y,cmap=cm,marker='.',s=10)"
   ]
  },
  {
   "cell_type": "code",
   "execution_count": 105,
   "metadata": {},
   "outputs": [
    {
     "data": {
      "image/png": "[encoded data removed]",
      "text/plain": [
       "<matplotlib.figure.Figure at 0x16d3c934cc0>"
      ]
     },
     "metadata": {},
     "output_type": "display_data"
    },
    {
     "data": {
      "image/png": "[encoded data removed]",
      "text/plain": [
       "<matplotlib.figure.Figure at 0x16d3c8d2898>"
      ]
     },
     "metadata": {},
     "output_type": "display_data"
    },
    {
     "data": {
      "image/png": "[encoded data removed]",
      "text/plain": [
       "<matplotlib.figure.Figure at 0x16d3c7437b8>"
      ]
     },
     "metadata": {},
     "output_type": "display_data"
    },
    {
     "data": {
      "image/png": "[encoded data removed]",
      "text/plain": [
       "<matplotlib.figure.Figure at 0x16d3c7c5f98>"
      ]
     },
     "metadata": {},
     "output_type": "display_data"
    },
    {
     "data": {
      "image/png": "[encoded data removed]",
      "text/plain": [
       "<matplotlib.figure.Figure at 0x16d3cb06d68>"
      ]
     },
     "metadata": {},
     "output_type": "display_data"
    },
    {
     "data": {
      "image/png": "[encoded data removed]",
      "text/plain": [
       "<matplotlib.figure.Figure at 0x16d3c9c9048>"
      ]
     },
     "metadata": {},
     "output_type": "display_data"
    }
   ],
   "source": [
    "for s in sector:\n",
    "    i,j=key_matrix[s]\n",
    "    X=x[:,[i,j]]\n",
    "    Y=y\n",
    "    plt.scatter(X[:,0],X[:,1],c=Y,cmap=cm,marker='.',s=10)\n",
    "    plt.show()"
   ]
  },
  {
   "cell_type": "code",
   "execution_count": 23,
   "metadata": {},
   "outputs": [
    {
     "ename": "NameError",
     "evalue": "name 'sector' is not defined",
     "output_type": "error",
     "traceback": [
      "\u001b[1;31m---------------------------------------------------------------------------\u001b[0m",
      "\u001b[1;31mNameError\u001b[0m                                 Traceback (most recent call last)",
      "\u001b[1;32m<ipython-input-23-0202ec27b92d>\u001b[0m in \u001b[0;36m<module>\u001b[1;34m()\u001b[0m\n\u001b[0;32m      2\u001b[0m \u001b[1;33m\u001b[0m\u001b[0m\n\u001b[0;32m      3\u001b[0m \u001b[0mk\u001b[0m\u001b[1;33m=\u001b[0m\u001b[1;36m0\u001b[0m\u001b[1;33m\u001b[0m\u001b[0m\n\u001b[1;32m----> 4\u001b[1;33m \u001b[1;32mfor\u001b[0m \u001b[0mst\u001b[0m \u001b[1;32min\u001b[0m \u001b[0msector\u001b[0m\u001b[1;33m[\u001b[0m\u001b[1;33m:\u001b[0m\u001b[1;36m5\u001b[0m\u001b[1;33m]\u001b[0m\u001b[1;33m:\u001b[0m\u001b[1;33m\u001b[0m\u001b[0m\n\u001b[0m\u001b[0;32m      5\u001b[0m     \u001b[0mi\u001b[0m\u001b[1;33m,\u001b[0m\u001b[0mj\u001b[0m\u001b[1;33m=\u001b[0m\u001b[0mkey_matrix\u001b[0m\u001b[1;33m[\u001b[0m\u001b[0mst\u001b[0m\u001b[1;33m]\u001b[0m\u001b[1;33m\u001b[0m\u001b[0m\n\u001b[0;32m      6\u001b[0m     \u001b[0mX\u001b[0m\u001b[1;33m=\u001b[0m\u001b[0mx\u001b[0m\u001b[1;33m[\u001b[0m\u001b[1;33m:\u001b[0m\u001b[1;33m,\u001b[0m\u001b[1;33m[\u001b[0m\u001b[0mi\u001b[0m\u001b[1;33m,\u001b[0m\u001b[0mj\u001b[0m\u001b[1;33m]\u001b[0m\u001b[1;33m]\u001b[0m\u001b[1;33m\u001b[0m\u001b[0m\n",
      "\u001b[1;31mNameError\u001b[0m: name 'sector' is not defined"
     ]
    },
    {
     "data": {
      "image/png": "[encoded data removed]",
      "text/plain": [
       "<Figure size 2160x432 with 5 Axes>"
      ]
     },
     "metadata": {},
     "output_type": "display_data"
    }
   ],
   "source": [
    "fig, axs = plt.subplots(1,5,figsize=(6*5,6))\n",
    "\n",
    "k=0\n",
    "for st in sector[:5]:\n",
    "    i,j=key_matrix[st]\n",
    "    X=x[:,[i,j]]\n",
    "    Y=y\n",
    "    #plt.subplot(k+1)\n",
    "    axs[k].scatter(X[:,0],X[:,1],c=Y,cmap=cm,marker='.',s=10)\n",
    "    axs[k].set_xlabel(str(i))\n",
    "    axs[k].set_ylabel(str(j))\n",
    "    axs[k].set_title(str(score[st])[:8])\n",
    "    k=k+1"
   ]
  },
  {
   "cell_type": "code",
   "execution_count": 3,
   "metadata": {},
   "outputs": [],
   "source": [
    "(x_vals,target)=DATA['wine']"
   ]
  },
  {
   "cell_type": "code",
   "execution_count": 16,
   "metadata": {},
   "outputs": [],
   "source": [
    "Xn=np.stack([x[:,0],x[:,6],x[:,9],x[:,10],x[:,11]],axis=1)"
   ]
  },
  {
   "cell_type": "code",
   "execution_count": 18,
   "metadata": {},
   "outputs": [
    {
     "data": {
      "text/plain": [
       "0.949438202247191"
      ]
     },
     "execution_count": 18,
     "metadata": {},
     "output_type": "execute_result"
    }
   ],
   "source": [
    "NearestCentroidClassifier(Xn,y)"
   ]
  },
  {
   "cell_type": "code",
   "execution_count": 22,
   "metadata": {},
   "outputs": [
    {
     "data": {
      "text/plain": [
       "0.949438202247191"
      ]
     },
     "execution_count": 22,
     "metadata": {},
     "output_type": "execute_result"
    }
   ],
   "source": [
    "NearestCentroidClassifier(np.stack([x[:,0],x[:,6],x[:,9],x[:,10],x[:,11]],axis=1),y)"
   ]
  },
  {
   "cell_type": "code",
   "execution_count": null,
   "metadata": {},
   "outputs": [],
   "source": []
  }
 ],
 "metadata": {
  "kernelspec": {
   "display_name": "Python 3",
   "language": "python",
   "name": "python3"
  },
  "language_info": {
   "codemirror_mode": {
    "name": "ipython",
    "version": 3
   },
   "file_extension": ".py",
   "mimetype": "text/x-python",
   "name": "python",
   "nbconvert_exporter": "python",
   "pygments_lexer": "ipython3",
   "version": "3.5.3"
  }
 },
 "nbformat": 4,
 "nbformat_minor": 2
}
